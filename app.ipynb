{
 "cells": [
  {
   "cell_type": "markdown",
   "metadata": {},
   "source": [
    "## Imports"
   ]
  },
  {
   "cell_type": "code",
   "execution_count": null,
   "metadata": {},
   "outputs": [],
   "source": [
    "import panel as pn\n",
    "import pandas as pd\n",
    "from bokeh.models.widgets.tables import NumberFormatter\n",
    "from sklearn.neighbors import NearestNeighbors\n",
    "from sklearn.preprocessing import StandardScaler\n",
    "import numpy as np\n",
    "import json\n",
    "\n",
    "pn.extension(\"tabulator\")"
   ]
  },
  {
   "cell_type": "markdown",
   "metadata": {},
   "source": [
    "## Constants"
   ]
  },
  {
   "cell_type": "code",
   "execution_count": null,
   "metadata": {},
   "outputs": [],
   "source": [
    "all_url = \"https://raw.githubusercontent.com/music-recommender/music-recommender/main/data/song_info_all.csv\"\n",
    "\n",
    "complete_rows_url = \"https://raw.githubusercontent.com/music-recommender/music-recommender/main/data/song_info_complete_rows.csv\"\n",
    "\n",
    "all_columns = [\n",
    "    \"index\",\n",
    "    \"ID\",\n",
    "    \"Title\",\n",
    "    \"Artist\",\n",
    "    \"Genres\",\n",
    "    \"Location\",\n",
    "    \"Latitude\",\n",
    "    \"Longitude\",\n",
    "    \"Tempo\",\n",
    "    \"Year\",\n",
    "    \"Overlapping genres\",\n",
    "    \"Distance\",\n",
    "]\n",
    "hidden_columns = [\"index\", \"ID\", \"Latitude\", \"Longitude\", \"Distance\"]\n",
    "recom_cols = [\"Year\", \"Tempo\", \"Latitude\", \"Longitude\", \"Overlapping genres\"]\n",
    "\n",
    "csv_converters = {\"Genres\": lambda x: x.split(\",\")}\n",
    "formatters = {\n",
    "    \"Tempo\": NumberFormatter(format=\"0\"),\n",
    "    \"Year\": NumberFormatter(format=\"0\"),\n",
    "}"
   ]
  },
  {
   "cell_type": "markdown",
   "metadata": {},
   "source": [
    "## Widgets"
   ]
  },
  {
   "cell_type": "code",
   "execution_count": null,
   "metadata": {},
   "outputs": [],
   "source": [
    "def create_tabulator(df, hidden_cols, selectable):\n",
    "    return pn.widgets.Tabulator(\n",
    "        df,\n",
    "        selectable=selectable,\n",
    "        hidden_columns=hidden_cols,\n",
    "        pagination=\"local\",\n",
    "        layout=\"fit_columns\",\n",
    "        page_size=10,\n",
    "        sizing_mode=\"stretch_width\",\n",
    "        disabled=True,\n",
    "        formatters=formatters,\n",
    "    )\n",
    "\n",
    "\n",
    "tab = create_tabulator(\n",
    "    pd.read_csv(complete_rows_url, converters=csv_converters),\n",
    "    hidden_cols=hidden_columns,\n",
    "    selectable=\"checkbox\",\n",
    ")\n",
    "\n",
    "k_input = pn.widgets.IntInput(value=5, start=1, step=1, width=100)\n",
    "include_checkboxes = pn.widgets.CheckBoxGroup(options=recom_cols, value=recom_cols)\n",
    "hidden_checkboxes = pn.widgets.CheckBoxGroup(options=all_columns, value=hidden_columns)\n",
    "dataset_switch = pn.widgets.Switch(value=False)"
   ]
  },
  {
   "cell_type": "markdown",
   "metadata": {},
   "source": [
    "## Helper functions"
   ]
  },
  {
   "cell_type": "markdown",
   "metadata": {},
   "source": [
    "### Recommendation (MSD)"
   ]
  },
  {
   "cell_type": "code",
   "execution_count": null,
   "metadata": {},
   "outputs": [],
   "source": [
    "def count_overlapping_genres(song_ats, other_ats):\n",
    "    c = 0\n",
    "    for at in song_ats:\n",
    "        if at in other_ats:\n",
    "            c += 1\n",
    "    return c\n",
    "\n",
    "\n",
    "def recommendSongs(selection, k, cols, songs):\n",
    "    # If overlapping genres are used, we need to remove the column temporarily because it is not built yet\n",
    "    use_genres = \"Overlapping genres\" in cols\n",
    "    if use_genres:\n",
    "        cols.remove(\"Overlapping genres\")\n",
    "    # ids = list(map(lambda i: songs.iloc[i][\"ID\"], selection)) # Maybe del\n",
    "    genres = list(map(lambda song: songs.iloc[song][\"Genres\"], selection))\n",
    "    # save song data\n",
    "    selection_songs = songs[cols].iloc[selection]\n",
    "    # Remove all songs from the artists in the selection\n",
    "    songs = songs[~songs[\"Artist\"].isin(list(songs.iloc[selection][\"Artist\"]))]\n",
    "    # selection = list(map(lambda i: songs.index[songs[\"ID\"] == test_id].tolist(), selection)) # Maybe del\n",
    "    # We create a separate dataframe for each song (because the Overlapping genres are different for each song)\n",
    "    songs_with_genres = list()\n",
    "    for s in range(len(selection)):\n",
    "        songs_with_genres.append(songs[cols].copy())\n",
    "        if use_genres:\n",
    "            songs_with_genres[s][\"Overlapping genres\"] = songs[\"Genres\"].apply(\n",
    "                lambda x: count_overlapping_genres(genres[s], x)\n",
    "            )\n",
    "    if use_genres:\n",
    "        selection_songs[\"Overlapping genres\"] = list(map(len, genres))\n",
    "    # We normalize everything using the same scaler\n",
    "    scaler = StandardScaler().fit(songs_with_genres[0])\n",
    "    songs_data = list()\n",
    "    for song_list in songs_with_genres:\n",
    "        songs_data.append(scaler.transform(song_list))\n",
    "    selection_songs_scaled = scaler.transform(selection_songs)\n",
    "    # Create list of nearest neighbours for each song\n",
    "    neighbours = list()\n",
    "    for song, matrix in zip(selection_songs_scaled, songs_data):\n",
    "        # We make k*selection_size suggestions here, just in case there are better candidates since more input songs mean broader search space\n",
    "        neighbours += (\n",
    "            NearestNeighbors(n_neighbors=k * len(selection))\n",
    "            .fit(matrix)\n",
    "            .kneighbors([song], return_distance=False)\n",
    "            .tolist()[0]\n",
    "        )\n",
    "    # Delete duplicates\n",
    "    neighbours = list(set(neighbours))\n",
    "    results = songs.iloc[neighbours].copy().reset_index()\n",
    "    results[\"Distance\"] = [0] * len(results)\n",
    "    results[\"Distance\"] = results[\"Distance\"].astype(np.float64)\n",
    "    # Calculate squared distances for each result song for each input song\n",
    "    for song, matrix in zip(selection_songs_scaled, songs_data):\n",
    "        for i, result in enumerate(neighbours):\n",
    "            results.loc[i, \"Distance\"] += np.square(\n",
    "                np.linalg.norm(song - matrix[result])\n",
    "            )\n",
    "    # Sort by least distance and only return the first k elements\n",
    "    return results.sort_values(by=[\"Distance\"]).iloc[:k].reset_index(drop=True)"
   ]
  },
  {
   "cell_type": "markdown",
   "metadata": {},
   "source": [
    "### Comparison (Echo)"
   ]
  },
  {
   "cell_type": "code",
   "execution_count": null,
   "metadata": {},
   "outputs": [],
   "source": [
    "def readEchoUserData():\n",
    "    with open(\"data/echo_user_data.json\", \"r\") as f:\n",
    "        echo_user_data = json.load(f)\n",
    "    for user in echo_user_data.keys():\n",
    "        echo_user_data[user] = set(echo_user_data[user])\n",
    "    return echo_user_data\n",
    "\n",
    "\n",
    "def echoComparison(user_song_id, recommended_songs_df):\n",
    "    song_ids = np.array(\n",
    "        [row[\"ID\"] for row in recommended_songs_df.iloc]\n",
    "    )\n",
    "    echo_listens = readEchoUserData()\n",
    "    users = list(echo_listens.keys())\n",
    "    scores = np.zeros(len(song_ids))\n",
    "    user_song_listeners = np.zeros(len(song_ids))\n",
    "\n",
    "    for i in range(len(song_ids)):\n",
    "        for user in users:\n",
    "            if user_song_id in echo_listens[user]:\n",
    "                if song_ids[i] in echo_listens[user]:\n",
    "                    scores[i] += 1\n",
    "                user_song_listeners[i] += 1\n",
    "\n",
    "    for i in range(len(scores)):\n",
    "        if user_song_listeners[i] > 0:\n",
    "            scores[i] = scores[i] / user_song_listeners[i]\n",
    "    return scores"
   ]
  },
  {
   "cell_type": "markdown",
   "metadata": {},
   "source": [
    "## Interactive functions"
   ]
  },
  {
   "cell_type": "code",
   "execution_count": null,
   "metadata": {},
   "outputs": [],
   "source": [
    "@pn.depends(\n",
    "    s=tab.param.selection,\n",
    "    k=k_input,\n",
    "    include=include_checkboxes,\n",
    "    hidden=hidden_checkboxes,\n",
    ")\n",
    "def output(s, k, include, hidden):\n",
    "    if len(s) == 0:\n",
    "        return \"### Please select a song.\"\n",
    "    elif len(include) == 0:\n",
    "        return \"### Please select at least one column used for prediction.\"\n",
    "    else:\n",
    "        recommend_df = recommendSongs(s, k, include, tab.value.copy())\n",
    "        recommend_tab = create_tabulator(\n",
    "            recommend_df, hidden_cols=hidden, selectable=False\n",
    "        )\n",
    "        # Commented this out because it didn't work for me. Had the same issue as Matias\n",
    "        # echo_results = echoComparison(s, recommend_df)\n",
    "        # return pn.Column(recommend_tab, echo_results)\n",
    "        return pn.Column(recommend_tab)\n",
    "\n",
    "\n",
    "@pn.depends(hidden=hidden_checkboxes, watch=True)\n",
    "def update_hidden_columns(hidden):\n",
    "    tab.hidden_columns = hidden\n",
    "\n",
    "\n",
    "@pn.depends(b=dataset_switch, watch=True)\n",
    "def switch_dataset(b):\n",
    "    url = all_url if b else complete_rows_url\n",
    "    tab.value = pd.read_csv(url, converters=csv_converters)\n",
    "    k_input.end = tab.value.shape[0]"
   ]
  },
  {
   "cell_type": "markdown",
   "metadata": {},
   "source": [
    "## Template"
   ]
  },
  {
   "cell_type": "code",
   "execution_count": null,
   "metadata": {},
   "outputs": [],
   "source": [
    "template = pn.template.VanillaTemplate(\n",
    "    title=\"Music Recommender\",\n",
    "    sidebar=[\n",
    "        \"## Settings\",\n",
    "        pn.layout.Divider(),\n",
    "        \"### Number of recommendations\",\n",
    "        k_input,\n",
    "        \"### Include in recommendation\",\n",
    "        include_checkboxes,\n",
    "        \"### Hidden columns\",\n",
    "        hidden_checkboxes,\n",
    "        \"### Allow missing values\",\n",
    "        dataset_switch,\n",
    "    ],\n",
    "    sidebar_width=240,\n",
    ")\n",
    "\n",
    "template.main.append(\n",
    "    pn.Column(\n",
    "        \"# Songs\",\n",
    "        tab,\n",
    "        \"# Recommendations\",\n",
    "        output\n",
    "    )\n",
    ")\n",
    "\n",
    "template.servable()"
   ]
  }
 ],
 "metadata": {
  "language_info": {
   "name": "python"
  }
 },
 "nbformat": 4,
 "nbformat_minor": 2
}
